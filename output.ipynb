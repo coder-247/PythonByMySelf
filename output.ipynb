{
  "nbformat": 4,
  "nbformat_minor": 0,
  "metadata": {
    "colab": {
      "name": "output.ipynb",
      "provenance": [],
      "authorship_tag": "ABX9TyOzeFCPRFYWMQy0SKx1cGKG",
      "include_colab_link": true
    },
    "kernelspec": {
      "name": "python3",
      "display_name": "Python 3"
    }
  },
  "cells": [
    {
      "cell_type": "markdown",
      "metadata": {
        "id": "view-in-github",
        "colab_type": "text"
      },
      "source": [
        "<a href=\"https://colab.research.google.com/github/coder-247/PythonByMySelf/blob/main/output.ipynb\" target=\"_parent\"><img src=\"https://colab.research.google.com/assets/colab-badge.svg\" alt=\"Open In Colab\"/></a>"
      ]
    },
    {
      "cell_type": "code",
      "metadata": {
        "id": "MpMnfUKbrRAp"
      },
      "source": [
        "#하나만 출력합니다.\r\n",
        "print(\"# 하나만 출력합니다.\")\r\n",
        "print(\"Hello  Python Programming...!\")\r\n",
        "print()\r\n",
        "\r\n",
        "#여러 개를 출력합니다.\r\n",
        "print(\"#여러 개를 출력합니다.\")\r\n",
        "print(10, 20, 30, 40, 50)\r\n",
        "print(\"안녕하세요\", \"저의\", \"이름은\", \"서정림입니다!\")\r\n",
        "\r\n",
        "\r\n"
      ],
      "execution_count": null,
      "outputs": []
    }
  ]
}